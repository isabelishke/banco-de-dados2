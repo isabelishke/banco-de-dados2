{
  "nbformat": 4,
  "nbformat_minor": 0,
  "metadata": {
    "colab": {
      "provenance": [],
      "authorship_tag": "ABX9TyPriSxGNv+rPbU8vclRtJFl",
      "include_colab_link": true
    },
    "kernelspec": {
      "name": "python3",
      "display_name": "Python 3"
    },
    "language_info": {
      "name": "python"
    }
  },
  "cells": [
    {
      "cell_type": "markdown",
      "metadata": {
        "id": "view-in-github",
        "colab_type": "text"
      },
      "source": [
        "<a href=\"https://colab.research.google.com/github/isabelishke/banco-de-dados2/blob/main/IsabeliSH.ipynb\" target=\"_parent\"><img src=\"https://colab.research.google.com/assets/colab-badge.svg\" alt=\"Open In Colab\"/></a>"
      ]
    },
    {
      "cell_type": "code",
      "execution_count": null,
      "metadata": {
        "id": "QI6amPhi-OPY"
      },
      "outputs": [],
      "source": []
    },
    {
      "cell_type": "code",
      "source": [
        "# Importa a biblioteca para trabalhar com bancos de dados SQLite.\n",
        "import sqlite3\n",
        "\n",
        "# Conecta ao banco de dados (ou criar se não existir)\n",
        "conn = sqlite3.connect('clientes.db')\n",
        "\n",
        "# O método .cursor() cria um objeto chamado \"cursor\".\n",
        "# Esse objeto é sua interface para enviar comandos SQL ao BD.\n",
        "cursor = conn.cursor()\n",
        "\n",
        "# Cria a tabela de clientes\n",
        "cursor.execute('''\n",
        "CREATE TABLE IF NOT EXISTS clientes (\n",
        "id INTEGER PRIMARY KEY AUTOINCREMENT,\n",
        "nome TEXT NOT NULL,\n",
        "email TEXT NOT NULL UNIQUE\n",
        ")\n",
        "''')\n",
        "\n",
        "# Confirma as mudanças\n",
        "conn.commit()\n",
        "\n",
        "# Fecha a conexão\n",
        "conn.close()\n",
        "\n",
        "# Confirma execução do bloco de código\n",
        "print(\"Executado com sucesso!\")\n"
      ],
      "metadata": {
        "colab": {
          "base_uri": "https://localhost:8080/"
        },
        "id": "pdLynyP2-wTs",
        "outputId": "ccf9393a-60fc-4081-e069-b8adecec30ee"
      },
      "execution_count": 1,
      "outputs": [
        {
          "output_type": "stream",
          "name": "stdout",
          "text": [
            "Executado com sucesso!\n"
          ]
        }
      ]
    },
    {
      "cell_type": "code",
      "source": [
        "# Importa biblioteca para acessar funcionalidades do sistema operacional,\n",
        "# por exemplo, a manipulação de arquivos.\n",
        "import os\n",
        "\n",
        "# Verificar se o arquivo do banco de dados foi criado\n",
        "if os.path.exists('clientes.db'):\n",
        "    print(\"Banco de dados criado com sucesso!\")\n",
        "else:\n",
        "    print(\"Erro ao criar o banco de dados.\")\n"
      ],
      "metadata": {
        "colab": {
          "base_uri": "https://localhost:8080/"
        },
        "id": "UBDXa_CH_RRR",
        "outputId": "4196665d-2272-4d10-8944-ba3101fbe1e8"
      },
      "execution_count": 2,
      "outputs": [
        {
          "output_type": "stream",
          "name": "stdout",
          "text": [
            "Banco de dados criado com sucesso!\n"
          ]
        }
      ]
    },
    {
      "cell_type": "code",
      "source": [
        "import os\n",
        "\n",
        "# Verifica se o arquivo existe e apaga\n",
        "if os.path.exists('clientes.db'):\n",
        "    os.remove('clientes.db')\n",
        "    print(\"Arquivo 'clientes.db' removido com sucesso.\")\n",
        "else:\n",
        "    print(\"Arquivo 'clientes.db' não encontrado.\")\n"
      ],
      "metadata": {
        "colab": {
          "base_uri": "https://localhost:8080/"
        },
        "id": "ml-2gF8ICWhk",
        "outputId": "fff48236-aeb5-4c85-b98d-46a94f964e49"
      },
      "execution_count": 6,
      "outputs": [
        {
          "output_type": "stream",
          "name": "stdout",
          "text": [
            "Arquivo 'clientes.db' removido com sucesso.\n"
          ]
        }
      ]
    },
    {
      "cell_type": "code",
      "source": [
        "import sqlite3\n",
        "\n",
        "def adicionar_cliente(nome, email):\n",
        "    conn = sqlite3.connect('clientes.db')\n",
        "    cursor = conn.cursor()\n",
        "\n",
        "    # Cria a tabela se não existir\n",
        "    cursor.execute('''\n",
        "    CREATE TABLE IF NOT EXISTS clientes (\n",
        "        id INTEGER PRIMARY KEY AUTOINCREMENT,\n",
        "        nome TEXT NOT NULL,\n",
        "        email TEXT NOT NULL\n",
        "    )\n",
        "    ''')\n",
        "\n",
        "    # Insere os dados\n",
        "    cursor.execute('''\n",
        "    INSERT INTO clientes (nome, email) VALUES (?, ?)\n",
        "    ''', (nome, email))\n",
        "\n",
        "    conn.commit()\n",
        "    conn.close()\n",
        "\n",
        "# Teste\n",
        "adicionar_cliente('Nikolas', 'nikolas@example.com')\n",
        "print(\"Executado com sucesso!\")\n"
      ],
      "metadata": {
        "colab": {
          "base_uri": "https://localhost:8080/"
        },
        "id": "hKux6ft_CbZD",
        "outputId": "5496ab4e-1b67-47c5-9592-ed190ad3cc22"
      },
      "execution_count": 7,
      "outputs": [
        {
          "output_type": "stream",
          "name": "stdout",
          "text": [
            "Executado com sucesso!\n"
          ]
        }
      ]
    },
    {
      "cell_type": "code",
      "source": [
        "# Define função para buscar e retornar todos os clientes do BD.\n",
        "def listar_clientes():\n",
        "    # Conecta ao BD 'clientes.db'.\n",
        "    conn = sqlite3.connect('clientes.db')\n",
        "\n",
        "    # Cria um cursor para executar comandos SQL.\n",
        "    cursor = conn.cursor()\n",
        "\n",
        "    # Executa comando SQL para selecionar todas as linhas da tabela 'clientes'.\n",
        "    cursor.execute('SELECT * FROM clientes')\n",
        "\n",
        "    # Busca todos os resultados da consulta e os armazena na variável 'clientes'.\n",
        "    clientes = cursor.fetchall()\n",
        "\n",
        "    # Fecha a conexão com o BD.\n",
        "    conn.close()\n",
        "\n",
        "    # Retorna a lista de clientes.\n",
        "    return clientes\n",
        "\n",
        "# Exemplo de uso\n",
        "# Chama a função para obter a lista de clientes.\n",
        "clientes = listar_clientes()\n",
        "\n",
        "# Percorre a lista e imprime cada cliente.\n",
        "for cliente in clientes:\n",
        "    print(cliente)\n"
      ],
      "metadata": {
        "colab": {
          "base_uri": "https://localhost:8080/"
        },
        "id": "GRNMFEQVCkVr",
        "outputId": "f0b7980b-de97-447c-8bef-eb517901edb8"
      },
      "execution_count": 8,
      "outputs": [
        {
          "output_type": "stream",
          "name": "stdout",
          "text": [
            "(1, 'Nikolas', 'nikolas@example.com')\n"
          ]
        }
      ]
    },
    {
      "cell_type": "code",
      "source": [
        "# Define função para \"limpar\" formulário, resetando os campos.\n",
        "# A função não recebe parâmetros, só retorna novo dicionário.\n",
        "def limpar_formulario():\n",
        "    # Retorna dicionário com as chaves 'nome' e 'email' e valores\n",
        "    return {'nome': '', 'email': ''}\n",
        "\n",
        "# Exemplo de uso\n",
        "# Cria dicionário que simula formulário preenchido.\n",
        "formulario = {'nome': 'João', 'email': 'joao@example.com'}\n",
        "print(\"Antes de limpar:\", formulario)\n",
        "\n",
        "# Chama função para obter o formulário limpo e atribui o resultado\n",
        "# à variável 'formulario', sobrescrevendo o valor anterior com campos vazios.\n",
        "formulario = limpar_formulario()\n",
        "print(\"Depois de limpar:\", formulario)\n",
        "\n"
      ],
      "metadata": {
        "colab": {
          "base_uri": "https://localhost:8080/"
        },
        "id": "Cd6eeyUeC10i",
        "outputId": "81937a56-e6da-4e88-ff4f-e13b04cd7905"
      },
      "execution_count": 9,
      "outputs": [
        {
          "output_type": "stream",
          "name": "stdout",
          "text": [
            "Antes de limpar: {'nome': 'João', 'email': 'joao@example.com'}\n",
            "Depois de limpar: {'nome': '', 'email': ''}\n"
          ]
        }
      ]
    }
  ]
}